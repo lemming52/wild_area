{
 "cells": [
  {
   "cell_type": "code",
   "execution_count": 1,
   "metadata": {},
   "outputs": [],
   "source": [
    "import json"
   ]
  },
  {
   "cell_type": "code",
   "execution_count": 2,
   "metadata": {},
   "outputs": [],
   "source": [
    "import destijl.style as ds\n",
    "import pandas as pd\n",
    "pd.set_option('display.max_rows', None)"
   ]
  },
  {
   "cell_type": "code",
   "execution_count": 3,
   "metadata": {},
   "outputs": [
    {
     "name": "stdout",
     "output_type": "stream",
     "text": [
      "Populating the interactive namespace from numpy and matplotlib\n"
     ]
    }
   ],
   "source": [
    "%pylab inline\n",
    "ds.use_style()"
   ]
  },
  {
   "cell_type": "markdown",
   "metadata": {},
   "source": [
    "# Assemble Dataset"
   ]
  },
  {
   "cell_type": "code",
   "execution_count": 4,
   "metadata": {},
   "outputs": [],
   "source": [
    "master = pd.read_csv('Pokemon Database.csv', encoding='latin-1')\n",
    "galar = pd.read_csv('pokemon-swordshield.csv')\n",
    "ioa = pd.read_csv('ioa.csv')\n",
    "with open('smogon.json') as f:\n",
    "    smogon = json.load(f)"
   ]
  },
  {
   "cell_type": "code",
   "execution_count": 85,
   "metadata": {},
   "outputs": [],
   "source": [
    "smogondf = pd.DataFrame(smogon['pokemon'])[['name', 'formats', 'oob']]"
   ]
  },
  {
   "cell_type": "code",
   "execution_count": 6,
   "metadata": {},
   "outputs": [],
   "source": [
    "galar_names = galar['name01']"
   ]
  },
  {
   "cell_type": "code",
   "execution_count": 105,
   "metadata": {},
   "outputs": [],
   "source": [
    "smogondf['nname'] = [d.split('-')[0] if len(d.split('-')) != 1 else d for d in smogondf['name']]\n",
    "smogondf = smogondf.groupby('nname').agg({'formats': 'sum'})"
   ]
  },
  {
   "cell_type": "code",
   "execution_count": 21,
   "metadata": {},
   "outputs": [],
   "source": [
    "ioa_names = ioa['pok']"
   ]
  },
  {
   "cell_type": "code",
   "execution_count": 30,
   "metadata": {},
   "outputs": [],
   "source": [
    "swsh_names = set(galar_names.append(ioa_names))"
   ]
  },
  {
   "cell_type": "code",
   "execution_count": 106,
   "metadata": {},
   "outputs": [],
   "source": [
    "swsh = master[master['Pokemon Name'].isin(swsh_names)]"
   ]
  },
  {
   "cell_type": "code",
   "execution_count": 107,
   "metadata": {},
   "outputs": [],
   "source": [
    "swsh = swsh[~swsh['Alternate Form Name'].isin(['Mega', 'Mega X', 'Mega Y'])]\n",
    "swsh = swsh.merge(smogondf, how='left', left_on='Pokemon Name', right_on='nname')"
   ]
  },
  {
   "cell_type": "code",
   "execution_count": 108,
   "metadata": {},
   "outputs": [],
   "source": [
    "swsh.to_csv('pokemon_swsh_ioa.csv', index=False)"
   ]
  },
  {
   "cell_type": "markdown",
   "metadata": {},
   "source": [
    "## IOA specific"
   ]
  },
  {
   "cell_type": "code",
   "execution_count": 64,
   "metadata": {},
   "outputs": [],
   "source": [
    "ioa_unique = ioa[~ioa['pok'].isin(galar_names)]\n",
    "ioa_unique = master.merge(ioa_unique, how='inner', left_on='Pokemon Name', right_on='pok')\n",
    "ioa_unique = ioa_unique.drop_duplicates(subset=['Pokemon Name']).sort_values('ioa_number').reset_index()\n",
    "# Account for evolutions\n",
    "ioa_unique['IOA Pokedex Number'] = ioa_unique.index + 1\n",
    "ioa_unique.set_index('IOA Pokedex Number').to_csv('ioa_unique.csv')"
   ]
  },
  {
   "cell_type": "code",
   "execution_count": null,
   "metadata": {},
   "outputs": [],
   "source": [
    "evo_pairs = [\n",
    "    ['Porygon', 'Porygon2'],\n",
    "    ['Porygon2', 'Porygon-Z'],\n",
    "    ['Magneton', 'Magnezone'],\n",
    "]\n",
    "for a, b in evo_pairs:\n",
    "    ioa_unique = reorder(ioa_unique, a, b)\n",
    "ioa_unique.reset_index(inplace=True)"
   ]
  },
  {
   "cell_type": "code",
   "execution_count": 58,
   "metadata": {},
   "outputs": [],
   "source": [
    "def reorder(df, firstname, secondname):\n",
    "    firstloc = df.index[df['Pokemon Name'] == firstname][0]\n",
    "    secondloc = df.index[df['Pokemon Name'] == secondname][0]\n",
    "    return pd.concat([df.iloc[:firstloc+1], df.iloc[secondloc], df.iloc[firstloc:secondloc], df.iloc[secondloc+1:]], axis=1)"
   ]
  },
  {
   "cell_type": "markdown",
   "metadata": {},
   "source": [
    "# Parse Types"
   ]
  },
  {
   "cell_type": "code",
   "execution_count": 6,
   "metadata": {},
   "outputs": [],
   "source": [
    "swsh = pd.read_csv('pokemon_swsh_ioa.csv')[['Pokedex Number', 'Pokemon Name', 'Primary Type', 'Secondary Type', 'formats']]"
   ]
  },
  {
   "cell_type": "code",
   "execution_count": 7,
   "metadata": {},
   "outputs": [],
   "source": [
    "types = ['Normal','Fire','Fighting','Water','Flying','Grass','Poison','Electric','Ground','Psychic','Rock','Ice','Bug','Dragon','Ghost','Dark','Steel','Fairy']"
   ]
  },
  {
   "cell_type": "code",
   "execution_count": 8,
   "metadata": {},
   "outputs": [],
   "source": [
    "counts, pokemon = {}, {}\n",
    "for t in types:\n",
    "    sub = swsh[(swsh['Primary Type'] == t) | (swsh['Secondary Type'] == t)].drop_duplicates(subset=['Pokemon Name'])\n",
    "    pokemon[t] = sub\n",
    "    counts[t] = len(sub)\n",
    "counts = {k: v for k, v in sorted(counts.items(), key=lambda item: item[1])}"
   ]
  },
  {
   "cell_type": "code",
   "execution_count": 12,
   "metadata": {},
   "outputs": [
    {
     "data": {
      "text/html": [
       "<div>\n",
       "<style scoped>\n",
       "    .dataframe tbody tr th:only-of-type {\n",
       "        vertical-align: middle;\n",
       "    }\n",
       "\n",
       "    .dataframe tbody tr th {\n",
       "        vertical-align: top;\n",
       "    }\n",
       "\n",
       "    .dataframe thead th {\n",
       "        text-align: right;\n",
       "    }\n",
       "</style>\n",
       "<table border=\"1\" class=\"dataframe\">\n",
       "  <thead>\n",
       "    <tr style=\"text-align: right;\">\n",
       "      <th></th>\n",
       "      <th>Pokedex Number</th>\n",
       "      <th>Pokemon Name</th>\n",
       "      <th>Primary Type</th>\n",
       "      <th>Secondary Type</th>\n",
       "      <th>formats</th>\n",
       "    </tr>\n",
       "  </thead>\n",
       "  <tbody>\n",
       "    <tr>\n",
       "      <th>66</th>\n",
       "      <td>111</td>\n",
       "      <td>Rhyhorn</td>\n",
       "      <td>Ground</td>\n",
       "      <td>Rock</td>\n",
       "      <td>['LC']</td>\n",
       "    </tr>\n",
       "    <tr>\n",
       "      <th>67</th>\n",
       "      <td>112</td>\n",
       "      <td>Rhydon</td>\n",
       "      <td>Ground</td>\n",
       "      <td>Rock</td>\n",
       "      <td>['NU']</td>\n",
       "    </tr>\n",
       "    <tr>\n",
       "      <th>100</th>\n",
       "      <td>185</td>\n",
       "      <td>Sudowoodo</td>\n",
       "      <td>Rock</td>\n",
       "      <td>NaN</td>\n",
       "      <td>['Untiered']</td>\n",
       "    </tr>\n",
       "    <tr>\n",
       "      <th>112</th>\n",
       "      <td>213</td>\n",
       "      <td>Shuckle</td>\n",
       "      <td>Bug</td>\n",
       "      <td>Rock</td>\n",
       "      <td>['PU']</td>\n",
       "    </tr>\n",
       "    <tr>\n",
       "      <th>128</th>\n",
       "      <td>246</td>\n",
       "      <td>Larvitar</td>\n",
       "      <td>Rock</td>\n",
       "      <td>Ground</td>\n",
       "      <td>['LC']</td>\n",
       "    </tr>\n",
       "    <tr>\n",
       "      <th>129</th>\n",
       "      <td>247</td>\n",
       "      <td>Pupitar</td>\n",
       "      <td>Rock</td>\n",
       "      <td>Ground</td>\n",
       "      <td>['NFE']</td>\n",
       "    </tr>\n",
       "    <tr>\n",
       "      <th>130</th>\n",
       "      <td>248</td>\n",
       "      <td>Tyranitar</td>\n",
       "      <td>Rock</td>\n",
       "      <td>Dark</td>\n",
       "      <td>['OU', 'National Dex']</td>\n",
       "    </tr>\n",
       "    <tr>\n",
       "      <th>162</th>\n",
       "      <td>337</td>\n",
       "      <td>Lunatone</td>\n",
       "      <td>Rock</td>\n",
       "      <td>Psychic</td>\n",
       "      <td>['Untiered']</td>\n",
       "    </tr>\n",
       "    <tr>\n",
       "      <th>163</th>\n",
       "      <td>338</td>\n",
       "      <td>Solrock</td>\n",
       "      <td>Rock</td>\n",
       "      <td>Psychic</td>\n",
       "      <td>['Untiered']</td>\n",
       "    </tr>\n",
       "    <tr>\n",
       "      <th>193</th>\n",
       "      <td>438</td>\n",
       "      <td>Bonsly</td>\n",
       "      <td>Rock</td>\n",
       "      <td>NaN</td>\n",
       "      <td>['LC']</td>\n",
       "    </tr>\n",
       "    <tr>\n",
       "      <th>211</th>\n",
       "      <td>464</td>\n",
       "      <td>Rhyperior</td>\n",
       "      <td>Ground</td>\n",
       "      <td>Rock</td>\n",
       "      <td>['RU']</td>\n",
       "    </tr>\n",
       "    <tr>\n",
       "      <th>233</th>\n",
       "      <td>524</td>\n",
       "      <td>Roggenrola</td>\n",
       "      <td>Rock</td>\n",
       "      <td>NaN</td>\n",
       "      <td>['LC']</td>\n",
       "    </tr>\n",
       "    <tr>\n",
       "      <th>234</th>\n",
       "      <td>525</td>\n",
       "      <td>Boldore</td>\n",
       "      <td>Rock</td>\n",
       "      <td>NaN</td>\n",
       "      <td>['NFE']</td>\n",
       "    </tr>\n",
       "    <tr>\n",
       "      <th>235</th>\n",
       "      <td>526</td>\n",
       "      <td>Gigalith</td>\n",
       "      <td>Rock</td>\n",
       "      <td>NaN</td>\n",
       "      <td>['RU']</td>\n",
       "    </tr>\n",
       "    <tr>\n",
       "      <th>261</th>\n",
       "      <td>557</td>\n",
       "      <td>Dwebble</td>\n",
       "      <td>Bug</td>\n",
       "      <td>Rock</td>\n",
       "      <td>['LC']</td>\n",
       "    </tr>\n",
       "    <tr>\n",
       "      <th>262</th>\n",
       "      <td>558</td>\n",
       "      <td>Crustle</td>\n",
       "      <td>Bug</td>\n",
       "      <td>Rock</td>\n",
       "      <td>['PU']</td>\n",
       "    </tr>\n",
       "    <tr>\n",
       "      <th>355</th>\n",
       "      <td>688</td>\n",
       "      <td>Binacle</td>\n",
       "      <td>Rock</td>\n",
       "      <td>Water</td>\n",
       "      <td>['LC']</td>\n",
       "    </tr>\n",
       "    <tr>\n",
       "      <th>356</th>\n",
       "      <td>689</td>\n",
       "      <td>Barbaracle</td>\n",
       "      <td>Rock</td>\n",
       "      <td>Water</td>\n",
       "      <td>['RUBL']</td>\n",
       "    </tr>\n",
       "    <tr>\n",
       "      <th>385</th>\n",
       "      <td>744</td>\n",
       "      <td>Rockruff</td>\n",
       "      <td>Rock</td>\n",
       "      <td>NaN</td>\n",
       "      <td>['LC']</td>\n",
       "    </tr>\n",
       "    <tr>\n",
       "      <th>386</th>\n",
       "      <td>745</td>\n",
       "      <td>Lycanroc</td>\n",
       "      <td>Rock</td>\n",
       "      <td>NaN</td>\n",
       "      <td>['RU', 'PU', 'UU']</td>\n",
       "    </tr>\n",
       "    <tr>\n",
       "      <th>430</th>\n",
       "      <td>95</td>\n",
       "      <td>Onix</td>\n",
       "      <td>Rock</td>\n",
       "      <td>Ground</td>\n",
       "      <td>['LC']</td>\n",
       "    </tr>\n",
       "    <tr>\n",
       "      <th>447</th>\n",
       "      <td>874</td>\n",
       "      <td>Stonjourner</td>\n",
       "      <td>Rock</td>\n",
       "      <td>NaN</td>\n",
       "      <td>['Untiered']</td>\n",
       "    </tr>\n",
       "    <tr>\n",
       "      <th>503</th>\n",
       "      <td>834</td>\n",
       "      <td>Drednaw</td>\n",
       "      <td>Water</td>\n",
       "      <td>Rock</td>\n",
       "      <td>['PU', 'Uber']</td>\n",
       "    </tr>\n",
       "    <tr>\n",
       "      <th>506</th>\n",
       "      <td>838</td>\n",
       "      <td>Carkol</td>\n",
       "      <td>Rock</td>\n",
       "      <td>Fire</td>\n",
       "      <td>['NFE']</td>\n",
       "    </tr>\n",
       "    <tr>\n",
       "      <th>507</th>\n",
       "      <td>839</td>\n",
       "      <td>Coalossal</td>\n",
       "      <td>Rock</td>\n",
       "      <td>Fire</td>\n",
       "      <td>['RU', 'Uber']</td>\n",
       "    </tr>\n",
       "  </tbody>\n",
       "</table>\n",
       "</div>"
      ],
      "text/plain": [
       "     Pokedex Number Pokemon Name Primary Type Secondary Type  \\\n",
       "66              111      Rhyhorn       Ground           Rock   \n",
       "67              112       Rhydon       Ground           Rock   \n",
       "100             185    Sudowoodo         Rock            NaN   \n",
       "112             213      Shuckle          Bug           Rock   \n",
       "128             246     Larvitar         Rock         Ground   \n",
       "129             247      Pupitar         Rock         Ground   \n",
       "130             248    Tyranitar         Rock           Dark   \n",
       "162             337     Lunatone         Rock        Psychic   \n",
       "163             338      Solrock         Rock        Psychic   \n",
       "193             438       Bonsly         Rock            NaN   \n",
       "211             464    Rhyperior       Ground           Rock   \n",
       "233             524   Roggenrola         Rock            NaN   \n",
       "234             525      Boldore         Rock            NaN   \n",
       "235             526     Gigalith         Rock            NaN   \n",
       "261             557      Dwebble          Bug           Rock   \n",
       "262             558      Crustle          Bug           Rock   \n",
       "355             688      Binacle         Rock          Water   \n",
       "356             689   Barbaracle         Rock          Water   \n",
       "385             744     Rockruff         Rock            NaN   \n",
       "386             745     Lycanroc         Rock            NaN   \n",
       "430              95         Onix         Rock         Ground   \n",
       "447             874  Stonjourner         Rock            NaN   \n",
       "503             834      Drednaw        Water           Rock   \n",
       "506             838       Carkol         Rock           Fire   \n",
       "507             839    Coalossal         Rock           Fire   \n",
       "\n",
       "                    formats  \n",
       "66                   ['LC']  \n",
       "67                   ['NU']  \n",
       "100            ['Untiered']  \n",
       "112                  ['PU']  \n",
       "128                  ['LC']  \n",
       "129                 ['NFE']  \n",
       "130  ['OU', 'National Dex']  \n",
       "162            ['Untiered']  \n",
       "163            ['Untiered']  \n",
       "193                  ['LC']  \n",
       "211                  ['RU']  \n",
       "233                  ['LC']  \n",
       "234                 ['NFE']  \n",
       "235                  ['RU']  \n",
       "261                  ['LC']  \n",
       "262                  ['PU']  \n",
       "355                  ['LC']  \n",
       "356                ['RUBL']  \n",
       "385                  ['LC']  \n",
       "386      ['RU', 'PU', 'UU']  \n",
       "430                  ['LC']  \n",
       "447            ['Untiered']  \n",
       "503          ['PU', 'Uber']  \n",
       "506                 ['NFE']  \n",
       "507          ['RU', 'Uber']  "
      ]
     },
     "execution_count": 12,
     "metadata": {},
     "output_type": "execute_result"
    }
   ],
   "source": [
    "pokemon['Rock']"
   ]
  },
  {
   "cell_type": "code",
   "execution_count": 16,
   "metadata": {},
   "outputs": [
    {
     "data": {
      "text/plain": [
       "<BarContainer object of 18 artists>"
      ]
     },
     "execution_count": 16,
     "metadata": {},
     "output_type": "execute_result"
    },
    {
     "data": {
      "image/png": "[encoded data removed]",
      "text/plain": [
       "<Figure size 1296x576 with 1 Axes>"
      ]
     },
     "metadata": {},
     "output_type": "display_data"
    }
   ],
   "source": [
    "plt.figure(figsize=(18, 8))\n",
    "plt.bar([k for k, v in counts.items()], [v for k, v in counts.items()], color=ds.SCORES);"
   ]
  },
  {
   "cell_type": "code",
   "execution_count": 24,
   "metadata": {},
   "outputs": [],
   "source": [
    "mcounts, mpokemon = {}, {}\n",
    "for t in types:\n",
    "    sub = master[(master['Primary Type'] == t) | (master['Secondary Type'] == t)].drop_duplicates(subset=['Pokemon Name'])\n",
    "    mpokemon[t] = sub\n",
    "    mcounts[t] = len(sub)\n",
    "mcounts = {k: v for k, v in sorted(mcounts.items(), key=lambda item: item[1])}"
   ]
  },
  {
   "cell_type": "code",
   "execution_count": 25,
   "metadata": {},
   "outputs": [
    {
     "data": {
      "image/png": "[encoded data removed]",
      "text/plain": [
       "<Figure size 1296x576 with 1 Axes>"
      ]
     },
     "metadata": {},
     "output_type": "display_data"
    }
   ],
   "source": [
    "plt.figure(figsize=(18, 8))\n",
    "plt.bar([k for k, v in mcounts.items()], [v for k, v in mcounts.items()], color=ds.SCORES);"
   ]
  },
  {
   "cell_type": "code",
   "execution_count": null,
   "metadata": {},
   "outputs": [],
   "source": []
  }
 ],
 "metadata": {
  "kernelspec": {
   "display_name": "Python 3",
   "language": "python",
   "name": "python3"
  },
  "language_info": {
   "codemirror_mode": {
    "name": "ipython",
    "version": 3
   },
   "file_extension": ".py",
   "mimetype": "text/x-python",
   "name": "python",
   "nbconvert_exporter": "python",
   "pygments_lexer": "ipython3",
   "version": "3.7.4"
  }
 },
 "nbformat": 4,
 "nbformat_minor": 4
}
